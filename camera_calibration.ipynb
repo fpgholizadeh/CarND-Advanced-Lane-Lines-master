{
 "cells": [
  {
   "cell_type": "markdown",
   "metadata": {},
   "source": [
    "## First, I'll compute the camera calibration using chessboard images\n"
   ]
  },
  {
   "cell_type": "code",
   "execution_count": 30,
   "metadata": {},
   "outputs": [
    {
     "name": "stdout",
     "output_type": "stream",
     "text": [
      "working on camera_cal\\calibration10.jpg\n",
      "working on camera_cal\\calibration11.jpg\n",
      "working on camera_cal\\calibration12.jpg\n",
      "working on camera_cal\\calibration13.jpg\n",
      "working on camera_cal\\calibration14.jpg\n",
      "working on camera_cal\\calibration15.jpg\n",
      "working on camera_cal\\calibration16.jpg\n",
      "working on camera_cal\\calibration17.jpg\n",
      "working on camera_cal\\calibration18.jpg\n",
      "working on camera_cal\\calibration19.jpg\n",
      "working on camera_cal\\calibration2.jpg\n",
      "working on camera_cal\\calibration20.jpg\n",
      "working on camera_cal\\calibration3.jpg\n",
      "working on camera_cal\\calibration6.jpg\n",
      "working on camera_cal\\calibration7.jpg\n",
      "working on camera_cal\\calibration8.jpg\n",
      "working on camera_cal\\calibration9.jpg\n"
     ]
    }
   ],
   "source": [
    "import numpy as np\n",
    "import os\n",
    "import cv2\n",
    "import glob\n",
    "import matplotlib.pyplot as plt\n",
    "import pickle\n",
    "%matplotlib qt\n",
    "\n",
    "# prepare object points, like (0,0,0), (1,0,0), (2,0,0) ....,(6,5,0)\n",
    "objp = np.zeros((6*9,3), np.float32)\n",
    "objp[:,:2] = np.mgrid[0:9,0:6].T.reshape(-1,2)\n",
    "\n",
    "# Arrays to store object points and image points from all the images.\n",
    "objpoints = [] # 3d points in real world space\n",
    "imgpoints = [] # 2d points in image plane.\n",
    "dirname = 'camera_cal/'\n",
    "# Make a list of calibration images\n",
    "images = glob.glob('camera_cal/calibration*.jpg')\n",
    "# Step through the list and search for chessboard corners\n",
    "for img_num,fname in enumerate(images):\n",
    "    img = cv2.imread(fname)\n",
    "    gray = cv2.cvtColor(img,cv2.COLOR_BGR2GRAY)\n",
    "\n",
    "    # Find the chessboard corners\n",
    "    ret, corners = cv2.findChessboardCorners(gray, (9,6),None)\n",
    "\n",
    "    # If found, add object points, image points\n",
    "    if ret == True:\n",
    "        print(\"working on\",fname)\n",
    "        objpoints.append(objp)\n",
    "        imgpoints.append(corners)\n",
    "        # Draw and display the corners\n",
    "        img = cv2.drawChessboardCorners(img, (9,6), corners, ret)\n",
    "        file_name = 'corners_found'+str(img_num)+'.jpg'\n",
    "        cv2.imwrite(os.path.join(dirname, file_name), img)\n",
    "        #cv2.imwrite(file_name, img)\n",
    "        \n",
    "\n",
    "# Test undistortion on an image\n",
    "img = cv2.imread('camera_cal\\calibration1.jpg')\n",
    "img_size = (img.shape[1], img.shape[0])\n",
    "\n",
    "# Do camera calibration given object points and image points\n",
    "ret, mtx, dist, rvecs, tvecs = cv2.calibrateCamera(objpoints, imgpoints, img_size,None,None)\n",
    "\n",
    "\n",
    "dst = cv2.undistort(img, mtx, dist, None, mtx)\n",
    "cv2.imwrite(os.path.join(dirname,'undistort_calib1.jpg'),dst)\n",
    "\n",
    "# Save the camera calibration result for later use (we won't worry about rvecs / tvecs)\n",
    "dist_pickle = {}\n",
    "dist_pickle[\"mtx\"] = mtx\n",
    "dist_pickle[\"dist\"] = dist\n",
    "pickle.dump( dist_pickle, open( \"camera_cal/wide_dist_pickle.p\", \"wb\" ) )  \n"
   ]
  },
  {
   "cell_type": "code",
   "execution_count": null,
   "metadata": {},
   "outputs": [],
   "source": []
  }
 ],
 "metadata": {
  "kernelspec": {
   "display_name": "Python 3",
   "language": "python",
   "name": "python3"
  },
  "language_info": {
   "codemirror_mode": {
    "name": "ipython",
    "version": 3
   },
   "file_extension": ".py",
   "mimetype": "text/x-python",
   "name": "python",
   "nbconvert_exporter": "python",
   "pygments_lexer": "ipython3",
   "version": "3.6.9"
  }
 },
 "nbformat": 4,
 "nbformat_minor": 2
}
